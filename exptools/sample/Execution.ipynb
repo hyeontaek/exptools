{
 "cells": [
  {
   "cell_type": "code",
   "execution_count": null,
   "metadata": {
    "collapsed": true
   },
   "outputs": [],
   "source": [
    "from exptools.sample.sample import *"
   ]
  },
  {
   "cell_type": "code",
   "execution_count": null,
   "metadata": {},
   "outputs": [],
   "source": [
    "work, all_params = load()\n",
    "hist.prune_absent(all_params)\n",
    "hist.get_df('local')"
   ]
  },
  {
   "cell_type": "code",
   "execution_count": null,
   "metadata": {},
   "outputs": [],
   "source": [
    "params = all_params\n",
    "params = list(filter(lambda param: param['i'] != 1, params))\n",
    "#params = hist.omit_finished(params)\n",
    "hist.reset_finished(params)\n",
    "params = runner.omit_active(params)\n",
    "print(runner.format_estimated_time(work, params, 2))\n",
    "pprint(params)"
   ]
  },
  {
   "cell_type": "code",
   "execution_count": null,
   "metadata": {},
   "outputs": [],
   "source": [
    "#runner.reset()\n",
    "job_ids = runner.add(work, params)\n",
    "job_ids = runner.add(work, [param.adjusted_priority(1) for param in params[:1]])\n",
    "#runner.remove([job_ids[2]])\n",
    "print(runner.format_estimated_time(work, params, 2))"
   ]
  },
  {
   "cell_type": "code",
   "execution_count": null,
   "metadata": {},
   "outputs": [],
   "source": [
    "runner.wait()"
   ]
  },
  {
   "cell_type": "code",
   "execution_count": null,
   "metadata": {},
   "outputs": [],
   "source": [
    "print(runner.format_estimated_time() + '\\n')\n",
    "print(runner.state().format())"
   ]
  },
  {
   "cell_type": "code",
   "execution_count": null,
   "metadata": {
    "collapsed": true
   },
   "outputs": [],
   "source": [
    "#del runner\n",
    "#del exptools.sample.sample.runner\n",
    "#import gc\n",
    "#gc.collect();"
   ]
  },
  {
   "cell_type": "code",
   "execution_count": null,
   "metadata": {
    "collapsed": true
   },
   "outputs": [],
   "source": []
  }
 ],
 "metadata": {
  "kernelspec": {
   "display_name": "Python 3",
   "language": "python",
   "name": "python3"
  },
  "language_info": {
   "codemirror_mode": {
    "name": "ipython",
    "version": 3
   },
   "file_extension": ".py",
   "mimetype": "text/x-python",
   "name": "python",
   "nbconvert_exporter": "python",
   "pygments_lexer": "ipython3",
   "version": "3.6.2"
  }
 },
 "nbformat": 4,
 "nbformat_minor": 2
}
