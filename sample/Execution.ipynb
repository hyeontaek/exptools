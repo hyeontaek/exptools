{
 "cells": [
  {
   "cell_type": "code",
   "execution_count": 1,
   "metadata": {},
   "outputs": [],
   "source": [
    "import sys\n",
    "sys.path.append('..')\n",
    "%load_ext autoreload\n",
    "%autoreload 2"
   ]
  },
  {
   "cell_type": "code",
   "execution_count": 2,
   "metadata": {},
   "outputs": [],
   "source": [
    "from sample import *"
   ]
  },
  {
   "cell_type": "code",
   "execution_count": 3,
   "metadata": {},
   "outputs": [
    {
     "data": {
      "text/plain": [
       "[('my_job', OrderedDict([('i', 0)])),\n",
       " ('my_job', OrderedDict([('i', 1)])),\n",
       " ('my_job', OrderedDict([('i', 2)])),\n",
       " ('my_job', OrderedDict([('i', 3)]))]"
      ]
     },
     "execution_count": 3,
     "metadata": {},
     "output_type": "execute_result"
    }
   ],
   "source": [
    "params = list(enum_params())\n",
    "hist_mgr.prune_absent(params)\n",
    "#params = hist_mgr.remove_finished(params)\n",
    "#params = [param for param in params if param[1]['i'] != 1]\n",
    "#hist_mgr.reset_finished(params)\n",
    "params"
   ]
  },
  {
   "cell_type": "code",
   "execution_count": 5,
   "metadata": {},
   "outputs": [
    {
     "name": "stdout",
     "output_type": "stream",
     "text": [
      "Started:   job=job_type(job_id=4, param=('my_job', OrderedDict([('i', 0)])))state_type(succeeded_jobs=[], failed_jobs=[], active_jobs=[], pending_jobs=[job_type(job_id=4, param=('my_job', OrderedDict([('i', 0)]))), job_type(job_id=5, param=('my_job', OrderedDict([('i', 1)]))), job_type(job_id=7, param=('my_job', OrderedDict([('i', 3)])))], concurrency=1.0)\n",
      "\n",
      "\u001b[34m[\u001b[0mS:\u001b[32m0\u001b[0m\u001b[34m/\u001b[0mF:\u001b[32m0\u001b[0m\u001b[34m/\u001b[0mA:\u001b[33m1\u001b[0m\u001b[34m/\u001b[0mP:\u001b[36m2\u001b[0m\u001b[34m] remaining: 3 seconds; finish by: 2017-09-28 15:18:48; concurrency: 1.0\u001b[0m\n",
      "Started:   job=job_type(job_id=5, param=('my_job', OrderedDict([('i', 1)])))\n",
      "\u001b[34m[\u001b[0mS:\u001b[32m0\u001b[0m\u001b[34m/\u001b[0mF:\u001b[32m0\u001b[0m\u001b[34m/\u001b[0mA:\u001b[33m2\u001b[0m\u001b[34m/\u001b[0mP:\u001b[36m1\u001b[0m\u001b[34m] remaining: 3 seconds; finish by: 2017-09-28 15:18:48; concurrency: 1.0\u001b[0m\n",
      "Succeeded: job=job_type(job_id=4, param=('my_job', OrderedDict([('i', 0)])))\n",
      "\u001b[34m[\u001b[0mS:\u001b[32m1\u001b[0m\u001b[34m/\u001b[0mF:\u001b[32m0\u001b[0m\u001b[34m/\u001b[0mA:\u001b[33m1\u001b[0m\u001b[34m/\u001b[0mP:\u001b[36m1\u001b[0m\u001b[34m] remaining: 1 second; finish by: 2017-09-28 15:18:47; concurrency: 1.1\u001b[0m\n",
      "Started:   job=job_type(job_id=7, param=('my_job', OrderedDict([('i', 3)])))\n",
      "\u001b[34m[\u001b[0mS:\u001b[32m1\u001b[0m\u001b[34m/\u001b[0mF:\u001b[32m0\u001b[0m\u001b[34m/\u001b[0mA:\u001b[33m2\u001b[0m\u001b[34m/\u001b[0mP:\u001b[36m0\u001b[0m\u001b[34m] remaining: 1 second; finish by: 2017-09-28 15:18:47; concurrency: 1.1\u001b[0m\n",
      "Succeeded: job=job_type(job_id=5, param=('my_job', OrderedDict([('i', 1)])))\n",
      "\u001b[34m[\u001b[0mS:\u001b[32m2\u001b[0m\u001b[34m/\u001b[0mF:\u001b[32m0\u001b[0m\u001b[34m/\u001b[0mA:\u001b[33m1\u001b[0m\u001b[34m/\u001b[0mP:\u001b[36m0\u001b[0m\u001b[34m] remaining: 1 second; finish by: 2017-09-28 15:18:47; concurrency: 1.1\u001b[0m\n",
      "Succeeded: job=job_type(job_id=7, param=('my_job', OrderedDict([('i', 3)])))\n",
      "\u001b[34m[\u001b[0mS:\u001b[32m3\u001b[0m\u001b[34m/\u001b[0mF:\u001b[32m0\u001b[0m\u001b[34m/\u001b[0mA:\u001b[33m0\u001b[0m\u001b[34m/\u001b[0mP:\u001b[36m0\u001b[0m\u001b[34m] remaining: 0 seconds; finish by: 2017-09-28 15:18:47; concurrency: 1.081\u001b[0m\n",
      "Job queue empty\n"
     ]
    }
   ],
   "source": [
    "runner.reset()\n",
    "job_ids = runner.add(params)\n",
    "runner.remove([job_ids[2]])\n",
    "print(runner.state())\n",
    "#print(est.format_estimated_time(runner.state()))\n",
    "runner.wait()"
   ]
  },
  {
   "cell_type": "code",
   "execution_count": null,
   "metadata": {
    "collapsed": true
   },
   "outputs": [],
   "source": []
  }
 ],
 "metadata": {
  "kernelspec": {
   "display_name": "Python 3",
   "language": "python",
   "name": "python3"
  },
  "language_info": {
   "codemirror_mode": {
    "name": "ipython",
    "version": 3
   },
   "file_extension": ".py",
   "mimetype": "text/x-python",
   "name": "python",
   "nbconvert_exporter": "python",
   "pygments_lexer": "ipython3",
   "version": "3.6.2"
  }
 },
 "nbformat": 4,
 "nbformat_minor": 2
}
